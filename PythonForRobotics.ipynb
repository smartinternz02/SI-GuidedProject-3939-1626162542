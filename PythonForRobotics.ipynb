{
 "cells": [
  {
   "cell_type": "code",
   "execution_count": 1,
   "id": "harmful-worcester",
   "metadata": {},
   "outputs": [],
   "source": [
    "# Shrirang Alias Samarth Patil\n",
    "# 19BAI10079\n",
    "# shrirang.alias2019@vitbhopal.ac.in"
   ]
  },
  {
   "cell_type": "markdown",
   "id": "stuffed-model",
   "metadata": {},
   "source": [
    "Python Identifiers And Keywords"
   ]
  },
  {
   "cell_type": "code",
   "execution_count": 2,
   "id": "entitled-dominant",
   "metadata": {},
   "outputs": [
    {
     "name": "stdout",
     "output_type": "stream",
     "text": [
      "['False', 'None', 'True', 'and', 'as', 'assert', 'async', 'await', 'break', 'class', 'continue', 'def', 'del', 'elif', 'else', 'except', 'finally', 'for', 'from', 'global', 'if', 'import', 'in', 'is', 'lambda', 'nonlocal', 'not', 'or', 'pass', 'raise', 'return', 'try', 'while', 'with', 'yield']\n"
     ]
    }
   ],
   "source": [
    "import keyword\n",
    "print(keyword.kwlist)"
   ]
  },
  {
   "cell_type": "markdown",
   "id": "athletic-income",
   "metadata": {},
   "source": [
    "Python - Comments ,Statements And Indentation"
   ]
  },
  {
   "cell_type": "code",
   "execution_count": 3,
   "id": "facial-episode",
   "metadata": {},
   "outputs": [
    {
     "name": "stdout",
     "output_type": "stream",
     "text": [
      "7\n",
      "31\n"
     ]
    },
    {
     "data": {
      "text/plain": [
       "'This is \\nmultiple line \\ncomment'"
      ]
     },
     "execution_count": 3,
     "metadata": {},
     "output_type": "execute_result"
    }
   ],
   "source": [
    "a = 7 # this is single line statement \n",
    "b = 3+5+7+ \\\n",
    "    5+2+ \\\n",
    "    9  # this is multiple line statement with indentation with this comment\n",
    "print(a)\n",
    "print(b)\n",
    "\"\"\"This is \n",
    "multiple line \n",
    "comment\"\"\""
   ]
  },
  {
   "cell_type": "markdown",
   "id": "recorded-parallel",
   "metadata": {},
   "source": [
    "Python - Variables"
   ]
  },
  {
   "cell_type": "code",
   "execution_count": 4,
   "id": "damaged-berkeley",
   "metadata": {},
   "outputs": [
    {
     "name": "stdout",
     "output_type": "stream",
     "text": [
      "7\n",
      "sam\n",
      "4.5\n",
      "9\n"
     ]
    }
   ],
   "source": [
    "a = 7 # a is a variable assigned with a value\n",
    "b, c, d = \"sam\", 4.5, 9 # multiple varibles have assigned values to it \n",
    "print(a)\n",
    "print(b)\n",
    "print(c)\n",
    "print(d)"
   ]
  },
  {
   "cell_type": "code",
   "execution_count": 5,
   "id": "brief-monitoring",
   "metadata": {},
   "outputs": [
    {
     "name": "stdout",
     "output_type": "stream",
     "text": [
      "99\n",
      "99\n",
      "99\n"
     ]
    }
   ],
   "source": [
    "x = y = z = 99 # multiple varaibles with a single value\n",
    "print(x)\n",
    "print(y)\n",
    "print(z)"
   ]
  },
  {
   "cell_type": "markdown",
   "id": "handed-retail",
   "metadata": {},
   "source": [
    "Python Fundamental Datatypes"
   ]
  },
  {
   "cell_type": "code",
   "execution_count": 6,
   "id": "improving-reader",
   "metadata": {},
   "outputs": [],
   "source": [
    "a = 9\n",
    "b = 7.5\n",
    "c = 10j\n",
    "d = True\n",
    "e = \"This is string\""
   ]
  },
  {
   "cell_type": "code",
   "execution_count": 7,
   "id": "heavy-mixture",
   "metadata": {},
   "outputs": [
    {
     "data": {
      "text/plain": [
       "int"
      ]
     },
     "execution_count": 7,
     "metadata": {},
     "output_type": "execute_result"
    }
   ],
   "source": [
    "type(a)"
   ]
  },
  {
   "cell_type": "code",
   "execution_count": 8,
   "id": "considerable-fence",
   "metadata": {},
   "outputs": [
    {
     "data": {
      "text/plain": [
       "float"
      ]
     },
     "execution_count": 8,
     "metadata": {},
     "output_type": "execute_result"
    }
   ],
   "source": [
    "type(b)"
   ]
  },
  {
   "cell_type": "code",
   "execution_count": 9,
   "id": "weighted-titanium",
   "metadata": {},
   "outputs": [
    {
     "data": {
      "text/plain": [
       "complex"
      ]
     },
     "execution_count": 9,
     "metadata": {},
     "output_type": "execute_result"
    }
   ],
   "source": [
    "type(c)"
   ]
  },
  {
   "cell_type": "code",
   "execution_count": 10,
   "id": "superior-height",
   "metadata": {},
   "outputs": [
    {
     "data": {
      "text/plain": [
       "bool"
      ]
     },
     "execution_count": 10,
     "metadata": {},
     "output_type": "execute_result"
    }
   ],
   "source": [
    "type(d)"
   ]
  },
  {
   "cell_type": "code",
   "execution_count": 11,
   "id": "potential-nicholas",
   "metadata": {},
   "outputs": [
    {
     "data": {
      "text/plain": [
       "str"
      ]
     },
     "execution_count": 11,
     "metadata": {},
     "output_type": "execute_result"
    }
   ],
   "source": [
    "type(e)"
   ]
  },
  {
   "cell_type": "code",
   "execution_count": 12,
   "id": "classified-induction",
   "metadata": {},
   "outputs": [
    {
     "data": {
      "text/plain": [
       "'i'"
      ]
     },
     "execution_count": 12,
     "metadata": {},
     "output_type": "execute_result"
    }
   ],
   "source": [
    "e[2]"
   ]
  },
  {
   "cell_type": "code",
   "execution_count": 13,
   "id": "minimal-citizenship",
   "metadata": {},
   "outputs": [
    {
     "data": {
      "text/plain": [
       "'string'"
      ]
     },
     "execution_count": 13,
     "metadata": {},
     "output_type": "execute_result"
    }
   ],
   "source": [
    "e[8:]"
   ]
  },
  {
   "cell_type": "markdown",
   "id": "alive-continuity",
   "metadata": {},
   "source": [
    "Python - Lists"
   ]
  },
  {
   "cell_type": "code",
   "execution_count": 14,
   "id": "genuine-geometry",
   "metadata": {},
   "outputs": [],
   "source": [
    "list = [3, 8.7, \"apple\", \"sam\"]"
   ]
  },
  {
   "cell_type": "code",
   "execution_count": 15,
   "id": "funny-punch",
   "metadata": {},
   "outputs": [
    {
     "data": {
      "text/plain": [
       "'apple'"
      ]
     },
     "execution_count": 15,
     "metadata": {},
     "output_type": "execute_result"
    }
   ],
   "source": [
    "list[2]"
   ]
  },
  {
   "cell_type": "code",
   "execution_count": 16,
   "id": "martial-worse",
   "metadata": {},
   "outputs": [
    {
     "data": {
      "text/plain": [
       "[8.7, 'apple', 'sam']"
      ]
     },
     "execution_count": 16,
     "metadata": {},
     "output_type": "execute_result"
    }
   ],
   "source": [
    "list[1:]"
   ]
  },
  {
   "cell_type": "code",
   "execution_count": 17,
   "id": "rapid-tuner",
   "metadata": {},
   "outputs": [],
   "source": [
    "list[2]= \"banana\""
   ]
  },
  {
   "cell_type": "code",
   "execution_count": 18,
   "id": "christian-communication",
   "metadata": {},
   "outputs": [
    {
     "data": {
      "text/plain": [
       "[3, 8.7, 'banana', 'sam']"
      ]
     },
     "execution_count": 18,
     "metadata": {},
     "output_type": "execute_result"
    }
   ],
   "source": [
    "list"
   ]
  },
  {
   "cell_type": "code",
   "execution_count": 19,
   "id": "herbal-destination",
   "metadata": {},
   "outputs": [],
   "source": [
    "list.append([10, \"grapes\", 9.9])"
   ]
  },
  {
   "cell_type": "code",
   "execution_count": 20,
   "id": "chicken-baseball",
   "metadata": {},
   "outputs": [
    {
     "data": {
      "text/plain": [
       "[3, 8.7, 'banana', 'sam', [10, 'grapes', 9.9]]"
      ]
     },
     "execution_count": 20,
     "metadata": {},
     "output_type": "execute_result"
    }
   ],
   "source": [
    "list"
   ]
  },
  {
   "cell_type": "markdown",
   "id": "popular-retreat",
   "metadata": {},
   "source": [
    "Python - Tuple"
   ]
  },
  {
   "cell_type": "code",
   "execution_count": 21,
   "id": "returning-drill",
   "metadata": {},
   "outputs": [
    {
     "data": {
      "text/plain": [
       "(5, 9.2, 'hello')"
      ]
     },
     "execution_count": 21,
     "metadata": {},
     "output_type": "execute_result"
    }
   ],
   "source": [
    "tuple = (5, 9.2, \"hello\")\n",
    "tuple"
   ]
  },
  {
   "cell_type": "code",
   "execution_count": 22,
   "id": "legitimate-privacy",
   "metadata": {},
   "outputs": [
    {
     "data": {
      "text/plain": [
       "9.2"
      ]
     },
     "execution_count": 22,
     "metadata": {},
     "output_type": "execute_result"
    }
   ],
   "source": [
    "tuple[1]"
   ]
  },
  {
   "cell_type": "markdown",
   "id": "phantom-address",
   "metadata": {},
   "source": [
    "Python - Dictionary And Sets"
   ]
  },
  {
   "cell_type": "code",
   "execution_count": 23,
   "id": "greek-damages",
   "metadata": {},
   "outputs": [
    {
     "data": {
      "text/plain": [
       "'value'"
      ]
     },
     "execution_count": 23,
     "metadata": {},
     "output_type": "execute_result"
    }
   ],
   "source": [
    "dict = {1:'value', 'key':2}\n",
    "dict[1]"
   ]
  },
  {
   "cell_type": "code",
   "execution_count": 24,
   "id": "framed-basin",
   "metadata": {},
   "outputs": [
    {
     "data": {
      "text/plain": [
       "2"
      ]
     },
     "execution_count": 24,
     "metadata": {},
     "output_type": "execute_result"
    }
   ],
   "source": [
    "dict['key']"
   ]
  },
  {
   "cell_type": "code",
   "execution_count": 25,
   "id": "center-trace",
   "metadata": {},
   "outputs": [
    {
     "data": {
      "text/plain": [
       "dict_keys([1, 'key'])"
      ]
     },
     "execution_count": 25,
     "metadata": {},
     "output_type": "execute_result"
    }
   ],
   "source": [
    "dict.keys()"
   ]
  },
  {
   "cell_type": "code",
   "execution_count": 26,
   "id": "frank-screw",
   "metadata": {},
   "outputs": [
    {
     "data": {
      "text/plain": [
       "dict_items([(1, 'value'), ('key', 2)])"
      ]
     },
     "execution_count": 26,
     "metadata": {},
     "output_type": "execute_result"
    }
   ],
   "source": [
    "dict.items()"
   ]
  },
  {
   "cell_type": "code",
   "execution_count": 27,
   "id": "limited-coral",
   "metadata": {},
   "outputs": [
    {
     "data": {
      "text/plain": [
       "dict_values(['value', 2])"
      ]
     },
     "execution_count": 27,
     "metadata": {},
     "output_type": "execute_result"
    }
   ],
   "source": [
    "dict.values()"
   ]
  },
  {
   "cell_type": "code",
   "execution_count": 28,
   "id": "dynamic-judge",
   "metadata": {},
   "outputs": [
    {
     "name": "stdout",
     "output_type": "stream",
     "text": [
      "the set: {1, 2, 3, 4, 5, 6, 7, 8, 9}\n"
     ]
    }
   ],
   "source": [
    "a = {1,2,3,4,5,6,7,8,9}\n",
    "print('the set:',a)"
   ]
  },
  {
   "cell_type": "markdown",
   "id": "quarterly-rescue",
   "metadata": {},
   "source": [
    "Python - Conditional Statements"
   ]
  },
  {
   "cell_type": "code",
   "execution_count": 29,
   "id": "solved-employee",
   "metadata": {},
   "outputs": [
    {
     "name": "stdout",
     "output_type": "stream",
     "text": [
      "i is greater than 15\n"
     ]
    }
   ],
   "source": [
    "i = 20;\n",
    "if (i < 15):\n",
    "    print (\"i is smaller than 15\")\n",
    "else:\n",
    "    print (\"i is greater than 15\")"
   ]
  },
  {
   "cell_type": "code",
   "execution_count": 30,
   "id": "average-fountain",
   "metadata": {},
   "outputs": [
    {
     "name": "stdout",
     "output_type": "stream",
     "text": [
      "a and b are equal\n"
     ]
    }
   ],
   "source": [
    "a = 77\n",
    "b = 77\n",
    "if b > a:\n",
    "  print(\"b is greater than a\")\n",
    "elif a == b:\n",
    "  print(\"a and b are equal\")"
   ]
  },
  {
   "cell_type": "code",
   "execution_count": 31,
   "id": "controlling-potential",
   "metadata": {},
   "outputs": [
    {
     "name": "stdout",
     "output_type": "stream",
     "text": [
      "Above ten\n",
      "and also above 20!\n"
     ]
    }
   ],
   "source": [
    "x = 67\n",
    "\n",
    "if x > 10:\n",
    "  print(\"Above ten\")\n",
    "  if x > 20:\n",
    "    print(\"and also above 20!\")\n",
    "  else:\n",
    "    print(\"but not above 20.\")"
   ]
  },
  {
   "cell_type": "markdown",
   "id": "rational-swift",
   "metadata": {},
   "source": [
    "Python - LOOPS"
   ]
  },
  {
   "cell_type": "code",
   "execution_count": 32,
   "id": "straight-companion",
   "metadata": {},
   "outputs": [
    {
     "name": "stdout",
     "output_type": "stream",
     "text": [
      "1\n",
      "2\n",
      "3\n"
     ]
    }
   ],
   "source": [
    "i = 1\n",
    "while i < 6:\n",
    "  print(i)\n",
    "  if i == 3:\n",
    "    break\n",
    "  i += 1"
   ]
  },
  {
   "cell_type": "code",
   "execution_count": 33,
   "id": "intimate-scroll",
   "metadata": {},
   "outputs": [
    {
     "name": "stdout",
     "output_type": "stream",
     "text": [
      "apple\n"
     ]
    }
   ],
   "source": [
    "fruits = [\"apple\", \"banana\", \"cherry\"]\n",
    "for x in fruits:\n",
    "  if x == \"banana\":\n",
    "    break\n",
    "  print(x)"
   ]
  },
  {
   "cell_type": "markdown",
   "id": "female-harmony",
   "metadata": {},
   "source": [
    "Python - Functions"
   ]
  },
  {
   "cell_type": "code",
   "execution_count": 34,
   "id": "classified-child",
   "metadata": {},
   "outputs": [
    {
     "name": "stdout",
     "output_type": "stream",
     "text": [
      "15\n",
      "25\n",
      "45\n"
     ]
    }
   ],
   "source": [
    "def function1(x):\n",
    "  return 5 * x\n",
    "\n",
    "print(function1(3))\n",
    "print(function1(5))\n",
    "print(function1(9))"
   ]
  },
  {
   "cell_type": "code",
   "execution_count": 35,
   "id": "smoking-scott",
   "metadata": {},
   "outputs": [
    {
     "name": "stdout",
     "output_type": "stream",
     "text": [
      "The youngest child is tina\n"
     ]
    }
   ],
   "source": [
    "def my_function(*kids):\n",
    "  print(\"The youngest child is \" + kids[2])\n",
    "\n",
    "my_function(\"max\", \"sam\", \"tina\")"
   ]
  },
  {
   "cell_type": "markdown",
   "id": "visible-evidence",
   "metadata": {},
   "source": [
    "Python - File Handling"
   ]
  },
  {
   "cell_type": "code",
   "execution_count": 36,
   "id": "incorrect-conviction",
   "metadata": {},
   "outputs": [],
   "source": [
    "# f = open(\"demofile.txt\", \"rt\") r - read, a - append, w - write, x - create t -= text"
   ]
  },
  {
   "cell_type": "markdown",
   "id": "suited-pepper",
   "metadata": {},
   "source": [
    "Python - Exception Handling"
   ]
  },
  {
   "cell_type": "code",
   "execution_count": 37,
   "id": "local-acrobat",
   "metadata": {},
   "outputs": [
    {
     "name": "stdout",
     "output_type": "stream",
     "text": [
      "Second element = 2\n",
      "An error occurred\n"
     ]
    }
   ],
   "source": [
    "a = [1, 2, 3]\n",
    "try:\n",
    "    print (\"Second element = %d\" %(a[1]))\n",
    " \n",
    "    # Throws error since there are only 3 elements in array\n",
    "    print (\"Fourth element = %d\" %(a[3]))\n",
    " \n",
    "except IndexError:\n",
    "    print (\"An error occurred\")"
   ]
  },
  {
   "cell_type": "code",
   "execution_count": null,
   "id": "published-gravity",
   "metadata": {},
   "outputs": [],
   "source": []
  }
 ],
 "metadata": {
  "kernelspec": {
   "display_name": "Python 3",
   "language": "python",
   "name": "python3"
  },
  "language_info": {
   "codemirror_mode": {
    "name": "ipython",
    "version": 3
   },
   "file_extension": ".py",
   "mimetype": "text/x-python",
   "name": "python",
   "nbconvert_exporter": "python",
   "pygments_lexer": "ipython3",
   "version": "3.7.8"
  }
 },
 "nbformat": 4,
 "nbformat_minor": 5
}
