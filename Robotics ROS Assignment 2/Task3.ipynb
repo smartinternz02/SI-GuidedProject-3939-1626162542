{
 "cells": [
  {
   "cell_type": "code",
   "execution_count": 1,
   "id": "smart-citizen",
   "metadata": {},
   "outputs": [
    {
     "name": "stdout",
     "output_type": "stream",
     "text": [
      "Created dictionary\n",
      "{10: 'srinu', 11: 'vasu', 12: 'tejaswi', 13: 'subbu'}\n",
      "Accessing dictionary using for loop\n",
      "(10, 'srinu')\n",
      "(11, 'vasu')\n",
      "(12, 'tejaswi')\n",
      "(13, 'subbu')\n",
      "To retrieve only keys from dictionary using for loop\n",
      "10\n",
      "11\n",
      "12\n",
      "13\n",
      "To retrieve only values from dictionary using for loop\n",
      "srinu\n",
      "vasu\n",
      "tejaswi\n",
      "subbu\n"
     ]
    }
   ],
   "source": [
    "# Shrirang Alias Samarth Patil\n",
    "# 19BAI10079\n",
    "# shrirang.alias2019@vitbhopal.ac.in\n",
    "# TASK3: Write a program to store student details which consists of student id and name in dictionary.\n",
    "# Accessing dictionary using for loop\n",
    "# Access on keys from the created dictionary\n",
    "# Access values of keys in the dictionary\n",
    "\n",
    "print('Created dictionary')\n",
    "dict1={10: 'srinu', 11: 'vasu', 12: 'tejaswi', 13: 'subbu'}\n",
    "print(dict1)\n",
    "\n",
    "print('Accessing dictionary using for loop')\n",
    "for item in dict1.items():\n",
    "    print(item)\n",
    "\n",
    "print('To retrieve only keys from dictionary using for loop')\n",
    "for key in dict1.keys():\n",
    "    print(key)\n",
    "    \n",
    "print('To retrieve only values from dictionary using for loop')\n",
    "for value in dict1.values():\n",
    "    print (value)"
   ]
  },
  {
   "cell_type": "code",
   "execution_count": null,
   "id": "compliant-swift",
   "metadata": {},
   "outputs": [],
   "source": []
  }
 ],
 "metadata": {
  "kernelspec": {
   "display_name": "Python 3",
   "language": "python",
   "name": "python3"
  },
  "language_info": {
   "codemirror_mode": {
    "name": "ipython",
    "version": 3
   },
   "file_extension": ".py",
   "mimetype": "text/x-python",
   "name": "python",
   "nbconvert_exporter": "python",
   "pygments_lexer": "ipython3",
   "version": "3.7.8"
  }
 },
 "nbformat": 4,
 "nbformat_minor": 5
}
