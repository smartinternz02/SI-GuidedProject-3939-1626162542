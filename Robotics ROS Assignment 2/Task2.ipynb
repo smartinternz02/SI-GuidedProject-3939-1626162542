{
 "cells": [
  {
   "cell_type": "code",
   "execution_count": 2,
   "id": "restricted-ocean",
   "metadata": {},
   "outputs": [
    {
     "name": "stdout",
     "output_type": "stream",
     "text": [
      "Created a list\n",
      "[13, 4, 55, 23, 98, 3, 24]\n",
      "Accessing elements in a list using a for loop\n",
      "13\n",
      "4\n",
      "55\n",
      "23\n",
      "98\n",
      "3\n",
      "24\n",
      "No of elements in the list 7\n",
      "MAXIMUM element in the list 98\n",
      "MINIIMUM element in the list 3\n",
      "List sorted in ascending order [3, 4, 13, 23, 24, 55, 98]\n"
     ]
    }
   ],
   "source": [
    "# Shrirang Alias Samarth Patil\n",
    "# 19BAI10079\n",
    "# shrirang.alias2019@vitbhopal.ac.in\n",
    "# TASK2: Write a program to make a create a list and access elements using for loop.\n",
    "# Find no of elements in that list\n",
    "# Find max and min element in that list\n",
    "# Sort the list in ascending order and print it\n",
    "\n",
    "print('Created a list')\n",
    "List = [13, 4, 55, 23, 98, 3, 24]\n",
    "print(List)\n",
    "\n",
    "print('Accessing elements in a list using a for loop')\n",
    "for val in List:\n",
    "    print(val)\n",
    "\n",
    "no_of_elem = len(List)\n",
    "print('No of elements in the list',no_of_elem)\n",
    "\n",
    "maximum=max(List)\n",
    "print('MAXIMUM element in the list',maximum)\n",
    "\n",
    "minimum=min(List)\n",
    "print('MINIIMUM element in the list',minimum)\n",
    "\n",
    "List.sort()\n",
    "print('List sorted in ascending order',List)"
   ]
  },
  {
   "cell_type": "code",
   "execution_count": null,
   "id": "synthetic-afghanistan",
   "metadata": {},
   "outputs": [],
   "source": []
  }
 ],
 "metadata": {
  "kernelspec": {
   "display_name": "Python 3",
   "language": "python",
   "name": "python3"
  },
  "language_info": {
   "codemirror_mode": {
    "name": "ipython",
    "version": 3
   },
   "file_extension": ".py",
   "mimetype": "text/x-python",
   "name": "python",
   "nbconvert_exporter": "python",
   "pygments_lexer": "ipython3",
   "version": "3.7.8"
  }
 },
 "nbformat": 4,
 "nbformat_minor": 5
}
